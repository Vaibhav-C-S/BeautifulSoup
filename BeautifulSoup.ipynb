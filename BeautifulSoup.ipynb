{
 "cells": [
  {
   "cell_type": "code",
   "execution_count": 15,
   "metadata": {},
   "outputs": [
    {
     "name": "stdout",
     "output_type": "stream",
     "text": [
      "<!DOCTYPE html>\n",
      "<html lang=\"en\">\n",
      " <head>\n",
      "  <meta charset=\"utf-8\"/>\n",
      "  <meta content=\"width=, initial-scale=1.0\" name=\"viewport\"/>\n",
      "  <title>\n",
      "   DOc Title\n",
      "  </title>\n",
      " </head>\n",
      " <body>\n",
      "  <div class=\"vaibhav\">\n",
      "   Hey, I am vaibhav\n",
      "  </div>\n",
      "  <div class=\"vaibhav\">\n",
      "   Hey, I am also vaibhav\n",
      "  </div>\n",
      "  <a href=\"www.google.com\">\n",
      "   Google\n",
      "  </a>\n",
      "  <a href=\"www.facebook.com\">\n",
      "   Facebook\n",
      "  </a>\n",
      "  <a href=\"www.instagram.com\" id=\"link3\">\n",
      "   Instagram\n",
      "  </a>\n",
      " </body>\n",
      "</html>\n",
      "\n"
     ]
    }
   ],
   "source": [
    "import requests\n",
    "from bs4 import BeautifulSoup\n",
    "\n",
    "with open(\"sample.html\",\"r\") as f:\n",
    "    html_doc = f.read()\n",
    "\n",
    "soup = BeautifulSoup(html_doc, 'html.parser')\n",
    "print(soup.prettify())"
   ]
  },
  {
   "cell_type": "code",
   "execution_count": 16,
   "metadata": {},
   "outputs": [
    {
     "name": "stdout",
     "output_type": "stream",
     "text": [
      "<title>DOc Title</title>   type:  <class 'bs4.element.Tag'>\n",
      "DOc Title   type:  <class 'bs4.element.NavigableString'>\n",
      "title   type:  <class 'str'>\n"
     ]
    }
   ],
   "source": [
    "print(soup.title,\"  type: \",type(soup.title))\n",
    "print(soup.title.string,\"  type: \",type(soup.title.string)) #returns the document name\n",
    "print(soup.title.name,\"  type: \",type(soup.title.name))"
   ]
  },
  {
   "cell_type": "code",
   "execution_count": 17,
   "metadata": {},
   "outputs": [
    {
     "name": "stdout",
     "output_type": "stream",
     "text": [
      "<div class=\"vaibhav\">\n",
      "        Hey, I am vaibhav\n",
      "    </div>   type:  <class 'bs4.element.Tag'>\n",
      "---------------\n",
      "[<div class=\"vaibhav\">\n",
      "        Hey, I am vaibhav\n",
      "    </div>, <div class=\"vaibhav\">\n",
      "        Hey, I am also vaibhav\n",
      "    </div>]   type:  <class 'bs4.element.ResultSet'>\n"
     ]
    }
   ],
   "source": [
    "#to get div tags\n",
    "print(soup.div,\"  type: \",type(soup.div))#returns the first div tag\n",
    "print(\"---------------\")\n",
    "#to get all div tags\n",
    "print(soup.find_all('div'),\"  type: \",type(soup.find_all('div'))) #returns all div tags"
   ]
  },
  {
   "cell_type": "code",
   "execution_count": 24,
   "metadata": {},
   "outputs": [
    {
     "name": "stdout",
     "output_type": "stream",
     "text": [
      "www.google.com   type:  <class 'str'>\n",
      "www.facebook.com   type:  <class 'str'>\n",
      "www.instagram.com   type:  <class 'str'>\n",
      "---------------\n",
      "Google   type:  <class 'str'>\n",
      "Facebook   type:  <class 'str'>\n",
      "Instagram   type:  <class 'str'>\n",
      "---------------\n",
      "<a href=\"www.instagram.com\" id=\"link3\">Instagram</a>   type:  <class 'bs4.element.Tag'>\n"
     ]
    }
   ],
   "source": [
    "#to get all the links\n",
    "for link in soup.find_all('a'):\n",
    "    print(link.get('href'),\"  type: \",type(link.get('href'))) #returns all links\n",
    "\n",
    "print(\"---------------\")\n",
    "\n",
    "for link in soup.find_all(\"a\"):\n",
    "    print(link.get_text(),\"  type: \",type(link.get_text())) #returns all texts, what is there inside the anchor tag\n",
    "\n",
    "print(\"---------------\")\n",
    "\n",
    "print(soup.find(id=\"link3\"),\"  type: \",type(soup.find(id=\"link3\"))) #returns the tag with id link3"
   ]
  },
  {
   "cell_type": "code",
   "execution_count": 25,
   "metadata": {},
   "outputs": [
    {
     "name": "stdout",
     "output_type": "stream",
     "text": [
      "<!DOCTYPE html>\n",
      "<html lang=\"en\">\n",
      " <head>\n",
      "  <meta charset=\"utf-8\"/>\n",
      "  <meta content=\"width=device-width, initial-scale=1.0\" name=\"viewport\"/>\n",
      "  <title>\n",
      "   Document\n",
      "  </title>\n",
      " </head>\n",
      " <body>\n",
      "  <div class=\"italic\">\n",
      "   1\n",
      "  </div>\n",
      "  <div class=\"italic\">\n",
      "   2\n",
      "  </div>\n",
      "  <div class=\"italic\">\n",
      "   3\n",
      "  </div>\n",
      "  <div id=\"italic\">\n",
      "   4\n",
      "  </div>\n",
      " </body>\n",
      "</html>\n",
      "\n"
     ]
    }
   ],
   "source": [
    "with open(\"searchByClasses.html\",\"r\") as f:\n",
    "    html_doc = f.read()\n",
    "soup = BeautifulSoup(html_doc, 'html.parser')\n",
    "print(soup.prettify())"
   ]
  },
  {
   "cell_type": "code",
   "execution_count": 33,
   "metadata": {},
   "outputs": [
    {
     "name": "stdout",
     "output_type": "stream",
     "text": [
      "1\n",
      "2\n",
      "3\n",
      "---------------\n",
      "[<div class=\"italic\">1</div>, <div class=\"italic\">2</div>, <div class=\"italic\">3</div>]\n",
      "---------------\n",
      "<div class=\"italic\">1</div>\n",
      "---------------\n",
      "[<div class=\"italic\">1</div>, <div class=\"italic\">2</div>, <div class=\"italic\">3</div>]\n",
      "---------------\n",
      "[<div id=\"italic\">4</div>]\n",
      "---------------\n",
      "<div id=\"italic\">4</div>\n"
     ]
    }
   ],
   "source": [
    "for data in soup.select(\"div.italic\"):\n",
    "    print(data.get_text()) #returns all the tag with class italic and the text inside it\n",
    "\n",
    "\n",
    "print(\"---------------\")\n",
    "print(soup.select(\"div.italic\")) #returns all the tag with class italic\n",
    "\n",
    "print(\"---------------\")\n",
    "print(soup.find(class_ =\"italic\")) #returns all the tag with class bold\n",
    "\n",
    "print(\"---------------\")\n",
    "print(soup.find_all(class_ =\"italic\")) #returns all the tag with class bold\n",
    "\n",
    "print(\"---------------\")\n",
    "print(soup.select(\"div#italic\")) #returns all the tag with id italic    \n",
    "\n",
    "print(\"---------------\")\n",
    "print(soup.find(id =\"italic\")) #returns all the tag with id italic"
   ]
  },
  {
   "cell_type": "code",
   "execution_count": 42,
   "metadata": {},
   "outputs": [
    {
     "name": "stdout",
     "output_type": "stream",
     "text": [
      "\n",
      "\n",
      "<div class=\"box\">1</div>\n",
      "\n",
      "\n",
      "<div class=\"box\">2</div>\n",
      "\n",
      "\n",
      "<div class=\"box\">3</div>\n",
      "\n",
      "\n",
      "---------------\n",
      "0 <div class=\"container\">\n",
      "<div class=\"box\">1</div>\n",
      "<div class=\"box\">2</div>\n",
      "<div class=\"box\">3</div>\n",
      "</div>\n",
      "-----------------\n",
      "1 <body>\n",
      "<div class=\"container\">\n",
      "<div class=\"box\">1</div>\n",
      "<div class=\"box\">2</div>\n",
      "<div class=\"box\">3</div>\n",
      "</div>\n",
      "</body>\n",
      "-----------------\n",
      "2 <html lang=\"en\">\n",
      "<head>\n",
      "<meta charset=\"utf-8\"/>\n",
      "<meta content=\"width=device-width, initial-scale=1.0\" name=\"viewport\"/>\n",
      "<title>Document</title>\n",
      "</head>\n",
      "<body>\n",
      "<div class=\"container\">\n",
      "<div class=\"box\">1</div>\n",
      "<div class=\"box\">2</div>\n",
      "<div class=\"box\">3</div>\n",
      "</div>\n",
      "</body>\n",
      "</html>\n",
      "-----------------\n",
      "3 <!DOCTYPE html>\n",
      "\n",
      "<html lang=\"en\">\n",
      "<head>\n",
      "<meta charset=\"utf-8\"/>\n",
      "<meta content=\"width=device-width, initial-scale=1.0\" name=\"viewport\"/>\n",
      "<title>Document</title>\n",
      "</head>\n",
      "<body>\n",
      "<div class=\"container\">\n",
      "<div class=\"box\">1</div>\n",
      "<div class=\"box\">2</div>\n",
      "<div class=\"box\">3</div>\n",
      "</div>\n",
      "</body>\n",
      "</html>\n",
      "-----------------\n"
     ]
    }
   ],
   "source": [
    "with open(\"ParentsAndChilds.html\",\"r\") as f:\n",
    "    html_doc = f.read()\n",
    "soup = BeautifulSoup(html_doc, 'html.parser')\n",
    "\n",
    "for child in soup.find(class_ = \"container\").children:\n",
    "    print(child) #returns all the children of container tag\n",
    "\n",
    "print(\"---------------\")\n",
    "\n",
    "for i,p in enumerate(soup.find(class_ = \"box\").parents):\n",
    "    print(i,p) #returns the parent of container tag\n",
    "    print('-----------------')"
   ]
  },
  {
   "cell_type": "code",
   "execution_count": 48,
   "metadata": {},
   "outputs": [
    {
     "name": "stdout",
     "output_type": "stream",
     "text": [
      "<!DOCTYPE html>\n",
      "\n",
      "<html lang=\"en\">\n",
      "<head>\n",
      "<meta charset=\"utf-8\"/>\n",
      "<meta content=\"width=device-width, initial-scale=1.0\" name=\"viewport\"/>\n",
      "<title>Document</title>\n",
      "</head>\n",
      "<body>\n",
      "<div class=\"container\">\n",
      "<blockquote class=\"box\">the data inside</blockquote>\n",
      "<div class=\"box\">2</div>\n",
      "<div class=\"box\">3</div>\n",
      "</div>\n",
      "</body>\n",
      "</html>\n"
     ]
    }
   ],
   "source": [
    "tag = soup.find(class_=\"box\")\n",
    "\n",
    "# Modify the tag name\n",
    "tag.name = \"blockquote\"\n",
    "tag.string = \"the data inside\"\n",
    "\n",
    "print(soup)\n",
    "\n"
   ]
  },
  {
   "cell_type": "code",
   "execution_count": 51,
   "metadata": {},
   "outputs": [
    {
     "name": "stdout",
     "output_type": "stream",
     "text": [
      "None\n"
     ]
    },
    {
     "ename": "AttributeError",
     "evalue": "'NoneType' object has no attribute 'has_attr'",
     "output_type": "error",
     "traceback": [
      "\u001b[1;31m---------------------------------------------------------------------------\u001b[0m",
      "\u001b[1;31mAttributeError\u001b[0m                            Traceback (most recent call last)",
      "Cell \u001b[1;32mIn[51], line 4\u001b[0m\n\u001b[0;32m      2\u001b[0m \u001b[38;5;28mprint\u001b[39m(tag)\n\u001b[0;32m      3\u001b[0m \u001b[38;5;66;03m# Check if the tag has an 'id' attribute\u001b[39;00m\n\u001b[1;32m----> 4\u001b[0m \u001b[38;5;28;01mif\u001b[39;00m \u001b[43mtag\u001b[49m\u001b[38;5;241;43m.\u001b[39;49m\u001b[43mhas_attr\u001b[49m(\u001b[38;5;124m\"\u001b[39m\u001b[38;5;124mid\u001b[39m\u001b[38;5;124m\"\u001b[39m):\n\u001b[0;32m      5\u001b[0m     \u001b[38;5;28mprint\u001b[39m(\u001b[38;5;124m\"\u001b[39m\u001b[38;5;124mTag has an \u001b[39m\u001b[38;5;124m'\u001b[39m\u001b[38;5;124mid\u001b[39m\u001b[38;5;124m'\u001b[39m\u001b[38;5;124m attribute:\u001b[39m\u001b[38;5;124m\"\u001b[39m, tag[\u001b[38;5;124m\"\u001b[39m\u001b[38;5;124mid\u001b[39m\u001b[38;5;124m\"\u001b[39m])\n\u001b[0;32m      6\u001b[0m \u001b[38;5;28;01melse\u001b[39;00m:\n",
      "\u001b[1;31mAttributeError\u001b[0m: 'NoneType' object has no attribute 'has_attr'"
     ]
    }
   ],
   "source": [
    "tag = soup.find(\"container\")\n",
    "print(tag)\n",
    "# Check if the tag has an 'id' attribute\n",
    "if tag.has_attr(\"id\"):\n",
    "    print(\"Tag has an 'id' attribute:\", tag[\"id\"])\n",
    "else:\n",
    "    print(\"Tag does not have an 'id' attribute.\")"
   ]
  },
  {
   "cell_type": "code",
   "execution_count": null,
   "metadata": {},
   "outputs": [],
   "source": []
  }
 ],
 "metadata": {
  "kernelspec": {
   "display_name": "Python 3",
   "language": "python",
   "name": "python3"
  },
  "language_info": {
   "codemirror_mode": {
    "name": "ipython",
    "version": 3
   },
   "file_extension": ".py",
   "mimetype": "text/x-python",
   "name": "python",
   "nbconvert_exporter": "python",
   "pygments_lexer": "ipython3",
   "version": "3.11.9"
  }
 },
 "nbformat": 4,
 "nbformat_minor": 2
}
